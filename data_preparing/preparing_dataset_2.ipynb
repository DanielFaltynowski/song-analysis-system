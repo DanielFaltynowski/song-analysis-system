{
 "cells": [
  {
   "cell_type": "markdown",
   "metadata": {},
   "source": [
    "## OPRACOWANIE DANYCH ETAP 2\n",
    "\n",
    "W pierwszym etapie projektu zespołowego została przygotowana wstępna wersja danych, w której dokonano wyboru okresu czasowego oraz języka badanych piosenek.\n",
    "\n",
    "W tym etapie zostanie przygotowana analiza danych, która pozwoli podzielić piosenki na kategorie. Informacje o kategoriach będą wykorzystane w kolejnym etapie do stworzenia modelu predykcyjnego."
   ]
  },
  {
   "cell_type": "code",
   "execution_count": null,
   "metadata": {},
   "outputs": [],
   "source": [
    "%cd ../\n",
    "%pip install -r requirements.txt\n",
    "%cd data_preparing"
   ]
  },
  {
   "cell_type": "code",
   "execution_count": 151,
   "metadata": {},
   "outputs": [],
   "source": [
    "#import libraries\n",
    "import numpy as np\n",
    "import pandas as pd\n",
    "import matplotlib.pyplot as plt\n",
    "import seaborn as sns\n",
    "import re\n",
    "import nltk\n",
    "from nltk.corpus import stopwords\n",
    "from nltk.stem import WordNetLemmatizer\n",
    "from text2emotion import get_emotion\n",
    "from nltk.sentiment.vader import SentimentIntensityAnalyzer"
   ]
  },
  {
   "cell_type": "markdown",
   "metadata": {},
   "source": [
    "Po wczytaniu potrzebnych bibliotek, wczytujemy dane z pliku csv."
   ]
  },
  {
   "cell_type": "code",
   "execution_count": 152,
   "metadata": {},
   "outputs": [
    {
     "name": "stdout",
     "output_type": "stream",
     "text": [
      "<class 'pandas.core.frame.DataFrame'>\n",
      "RangeIndex: 385269 entries, 0 to 385268\n",
      "Data columns (total 9 columns):\n",
      " #   Column    Non-Null Count   Dtype \n",
      "---  ------    --------------   ----- \n",
      " 0   title     385266 non-null  object\n",
      " 1   tag       385269 non-null  object\n",
      " 2   artist    385269 non-null  object\n",
      " 3   year      385269 non-null  int64 \n",
      " 4   views     385269 non-null  int64 \n",
      " 5   features  385269 non-null  object\n",
      " 6   lyrics    385269 non-null  object\n",
      " 7   id        385269 non-null  int64 \n",
      " 8   decade    385269 non-null  object\n",
      "dtypes: int64(3), object(6)\n",
      "memory usage: 26.5+ MB\n"
     ]
    }
   ],
   "source": [
    "df = pd.read_csv('data.csv')\n",
    "\n",
    "df.shape\n",
    "df.info()"
   ]
  },
  {
   "cell_type": "code",
   "execution_count": 154,
   "metadata": {},
   "outputs": [
    {
     "data": {
      "text/html": [
       "<div>\n",
       "<style scoped>\n",
       "    .dataframe tbody tr th:only-of-type {\n",
       "        vertical-align: middle;\n",
       "    }\n",
       "\n",
       "    .dataframe tbody tr th {\n",
       "        vertical-align: top;\n",
       "    }\n",
       "\n",
       "    .dataframe thead th {\n",
       "        text-align: right;\n",
       "    }\n",
       "</style>\n",
       "<table border=\"1\" class=\"dataframe\">\n",
       "  <thead>\n",
       "    <tr style=\"text-align: right;\">\n",
       "      <th></th>\n",
       "      <th>title</th>\n",
       "      <th>tag</th>\n",
       "      <th>artist</th>\n",
       "      <th>year</th>\n",
       "      <th>views</th>\n",
       "      <th>features</th>\n",
       "      <th>lyrics</th>\n",
       "      <th>id</th>\n",
       "      <th>decade</th>\n",
       "    </tr>\n",
       "  </thead>\n",
       "  <tbody>\n",
       "    <tr>\n",
       "      <th>0</th>\n",
       "      <td>Can I Live</td>\n",
       "      <td>rap</td>\n",
       "      <td>JAY-Z</td>\n",
       "      <td>1996</td>\n",
       "      <td>468624</td>\n",
       "      <td>{}</td>\n",
       "      <td>[Produced by Irv Gotti]\\n\\n[Intro]\\nYeah, hah, yeah, Roc-A-Fella\\nWe invite you to somethin' epic, you know?\\nWell, we hustle out of a sense of hopelessness\\nSort of a desperation\\nThrough that desperation, we become addicted\\nSort of like the fiends we accustomed to servin'\\nBut we feel we have nothin' to lose\\nSo, we offer you, well, we offer our lives, right?\\nWhat do you bring to the table?\\n\\n[Verse 1]\\nWhile I'm watchin' every nigga watchin' me closely\\nMy shit is butter for the bread, they wanna toast me\\nI keep my head, both of them, where they supposed to be\\nHoes'll get you sidetracked, then clapped from close feet\\nI don't sleep, I'm tired, I feel wired like codeine, these days\\nA brother gotta admire me from four fiends away\\nMy pain, wish it was quick to see\\nFrom sellin' 'caine 'til brains was fried to a fricassee\\nCan't lie, at the time it never bothered me\\nAt the bar, gettin' my thug on properly\\nMy squad and me lack of respect for authority\\nLaughin' hard, happy t...</td>\n",
       "      <td>3</td>\n",
       "      <td>1990s</td>\n",
       "    </tr>\n",
       "    <tr>\n",
       "      <th>1</th>\n",
       "      <td>Rockin and Rollin</td>\n",
       "      <td>rap</td>\n",
       "      <td>Cam'ron</td>\n",
       "      <td>1998</td>\n",
       "      <td>6399</td>\n",
       "      <td>{\"Cam\\\\'ron\"}</td>\n",
       "      <td>[Verse 1]\\nAy yo you wonder who I are\\nI guzzle up at the bar\\nBut you see me in the cars that start with the double R\\nRange Rover, Rolls Royce, even got a Rocky Rolly\\nSee more ice than a hockey goalie\\nBaby eating guacamole\\nI did without\\nNow I live it out\\nCars? got to whip it out\\nEvery year I get it out\\n(Why?) I be long gone\\n(Where?) probably Hong Kong\\nGirls with their thong on\\nI'm playing Don Juan\\nDrinking Chandon\\nWhere the chron, ma?\\n\"You smoke weed?\" \"What you think, girl? Uh-huh!\"\\nStart the car up\\nTake her on a long ride\\nYo she think my steering wheel on the wrong side\\nNo I'm sorry\\nThis is the Ferrari\\nLimon like Bacardi\\nRock with safari\\nBut la di da di\\nWe like to party\\nAnd every night, believe, we gon' leave with somebody\\n[Hook]\\nWe was rockin' and rollin'\\nNow we rollin' and smokin'\\nOn the phone and we chokin'\\nWhile you strollin' and hopin'\\nFor the tone which you spoke in\\nAnd I know that you're open\\nLive a Branson life and a brand new 5\\nHot man, ...</td>\n",
       "      <td>10</td>\n",
       "      <td>1990s</td>\n",
       "    </tr>\n",
       "    <tr>\n",
       "      <th>2</th>\n",
       "      <td>DEvils</td>\n",
       "      <td>rap</td>\n",
       "      <td>JAY-Z</td>\n",
       "      <td>1996</td>\n",
       "      <td>504959</td>\n",
       "      <td>{}</td>\n",
       "      <td>[Produced by DJ Premier]\\n\\n[Hook Samples: Snoop Dogg + Prodigy]\\n\"Dear God – I wonder, can you save me?\"\\n\"Illuminati want my mind, soul and my body\"\\n\"Dear God – I wonder, can you save me?\"\\n\"Secret society, tryna keep they eye on me\"\\n\"Dear God – I wonder, can you save me?\"\\n\"Illuminati want my mind, soul and my body\"\\n\"Dear God – I wonder, can you save me?\"\\n\"I can't die, I can't die, I can't die\"\\n\\n[Verse 1]\\nThis shit is wicked on these mean streets\\nNone of my friends speak, we're all tryna win\\nBut then again, maybe it's for the best though\\n'Cause when they're sayin' too much\\nYou know they're tryna get you touched\\nWhoever said illegal was the easy way out\\nCouldn't understand the mechanics\\nAnd the workings of the underworld, granted\\nNine-to-five is how you survive, I ain't tryna survive\\nI'm tryna live it to the limit and love it a lot\\nLife ills poisoned my body, I used to say fuck mic skills\\nI never prayed to God, I prayed to Gotti\\nThat's right, it's wicked – that...</td>\n",
       "      <td>14</td>\n",
       "      <td>1990s</td>\n",
       "    </tr>\n",
       "    <tr>\n",
       "      <th>3</th>\n",
       "      <td>Its Hot Some Like It Hot</td>\n",
       "      <td>rap</td>\n",
       "      <td>JAY-Z</td>\n",
       "      <td>1999</td>\n",
       "      <td>103549</td>\n",
       "      <td>{}</td>\n",
       "      <td>[Produced by Timbaland]\\n\\n[Verse 1]\\nYo, show closer, J-to-the-A-Y-Hovah\\nPlace shutter down, who the fuck'll fuck around?\\nGame spitter, Range sitter, Bentley driver nigga\\nKeep a full clip, I have to empty out on niggas\\nHo bagger, no slacker, get this shit jumping\\nLike eight blacks, four crackers, get your ass jumped\\nCris' sipper, six dipper, wrist glitter nigga\\nGat buster, ass toucher.. clit licker\\nGo against Jigga your ass is dense\\nI'm about a dollar, what the fuck is 50 Cents?\\nHot shit, kick a nigga, turn these mics out\\nMy jewelry so bright you can turn these lights out\\nHova's like Noah keep two in the truck\\nI'm like U-Haul; every bitch moving I fuck\\nYou move slut, I gotta put two in your butt\\nI'm everything: the when's, why's, who's, and what\\nNigga what?\\n[Chorus]\\nHell no you can't stop it, when it's hot it's hot\\nMy grind, keep me jumpin' out of drop to drop\\nMy shine, lose your sight tryna watch the watch\\nWhen there's drama Jigga pop, Jigga pop, pop\\nHell no...</td>\n",
       "      <td>18</td>\n",
       "      <td>1990s</td>\n",
       "    </tr>\n",
       "    <tr>\n",
       "      <th>4</th>\n",
       "      <td>Its Like That</td>\n",
       "      <td>rap</td>\n",
       "      <td>JAY-Z</td>\n",
       "      <td>1998</td>\n",
       "      <td>37692</td>\n",
       "      <td>{\"Kid Capri\"}</td>\n",
       "      <td>[Intro: Jay-Z, Kid Capri &amp; Both]\\nYeah, uh-huh, watch this y'all\\nUhh, watch this y'all\\nC'mon, Jigga, watch this y'all\\nC'mon, Roc-A-Fella y'all..\\nHuh! Watch this y'all\\nIt's  Kid Capri and Jay-Z, come on!\\nIt's Jay-Z and Kid Capri, don't stop, huh-huh!\\n'Cause I'm like that y'all, yeah\\nI'm really like that\\n\\n[Verse 1: Jay-Z]\\nAs a young'un, dumb and gun in the waist\\nSold crack to those who couldn't take the pain\\nAnd had to numb it with base\\nCouldn't drink the Henny straight, I needed somethin to chase\\nNowadays I throw shots back, leavin' nothin' to waste\\nLife's like a treadmill, niggas runnin' in place\\nGettin' nowhere fast, a whole year done past\\nI vowed to never stop winnin', 'til the earth stop spinnin'\\nRock hot linen, cop hot cars and hot women\\nIf it's not him then you got it confused, y'all not rememberin'\\nMy motto is, simply \"I will not lose!\"\\nAbide by the block rules, I buy my Glocks used\\nWith bodies on it, let me know anybody want it?\\nI'm raised, irrational...</td>\n",
       "      <td>123</td>\n",
       "      <td>1990s</td>\n",
       "    </tr>\n",
       "  </tbody>\n",
       "</table>\n",
       "</div>"
      ],
      "text/plain": [
       "                      title  tag   artist  year   views       features  \\\n",
       "0                Can I Live  rap    JAY-Z  1996  468624             {}   \n",
       "1         Rockin and Rollin  rap  Cam'ron  1998    6399  {\"Cam\\\\'ron\"}   \n",
       "2                    DEvils  rap    JAY-Z  1996  504959             {}   \n",
       "3  Its Hot Some Like It Hot  rap    JAY-Z  1999  103549             {}   \n",
       "4             Its Like That  rap    JAY-Z  1998   37692  {\"Kid Capri\"}   \n",
       "\n",
       "                                                                                                                                                                                                                                                                                                                                                                                                                                                                                                                                                                                                                                                                                                                                                                                                                                                                                                                                                                                                                                    lyrics  \\\n",
       "0  [Produced by Irv Gotti]\\n\\n[Intro]\\nYeah, hah, yeah, Roc-A-Fella\\nWe invite you to somethin' epic, you know?\\nWell, we hustle out of a sense of hopelessness\\nSort of a desperation\\nThrough that desperation, we become addicted\\nSort of like the fiends we accustomed to servin'\\nBut we feel we have nothin' to lose\\nSo, we offer you, well, we offer our lives, right?\\nWhat do you bring to the table?\\n\\n[Verse 1]\\nWhile I'm watchin' every nigga watchin' me closely\\nMy shit is butter for the bread, they wanna toast me\\nI keep my head, both of them, where they supposed to be\\nHoes'll get you sidetracked, then clapped from close feet\\nI don't sleep, I'm tired, I feel wired like codeine, these days\\nA brother gotta admire me from four fiends away\\nMy pain, wish it was quick to see\\nFrom sellin' 'caine 'til brains was fried to a fricassee\\nCan't lie, at the time it never bothered me\\nAt the bar, gettin' my thug on properly\\nMy squad and me lack of respect for authority\\nLaughin' hard, happy t...   \n",
       "1  [Verse 1]\\nAy yo you wonder who I are\\nI guzzle up at the bar\\nBut you see me in the cars that start with the double R\\nRange Rover, Rolls Royce, even got a Rocky Rolly\\nSee more ice than a hockey goalie\\nBaby eating guacamole\\nI did without\\nNow I live it out\\nCars? got to whip it out\\nEvery year I get it out\\n(Why?) I be long gone\\n(Where?) probably Hong Kong\\nGirls with their thong on\\nI'm playing Don Juan\\nDrinking Chandon\\nWhere the chron, ma?\\n\"You smoke weed?\" \"What you think, girl? Uh-huh!\"\\nStart the car up\\nTake her on a long ride\\nYo she think my steering wheel on the wrong side\\nNo I'm sorry\\nThis is the Ferrari\\nLimon like Bacardi\\nRock with safari\\nBut la di da di\\nWe like to party\\nAnd every night, believe, we gon' leave with somebody\\n[Hook]\\nWe was rockin' and rollin'\\nNow we rollin' and smokin'\\nOn the phone and we chokin'\\nWhile you strollin' and hopin'\\nFor the tone which you spoke in\\nAnd I know that you're open\\nLive a Branson life and a brand new 5\\nHot man, ...   \n",
       "2  [Produced by DJ Premier]\\n\\n[Hook Samples: Snoop Dogg + Prodigy]\\n\"Dear God – I wonder, can you save me?\"\\n\"Illuminati want my mind, soul and my body\"\\n\"Dear God – I wonder, can you save me?\"\\n\"Secret society, tryna keep they eye on me\"\\n\"Dear God – I wonder, can you save me?\"\\n\"Illuminati want my mind, soul and my body\"\\n\"Dear God – I wonder, can you save me?\"\\n\"I can't die, I can't die, I can't die\"\\n\\n[Verse 1]\\nThis shit is wicked on these mean streets\\nNone of my friends speak, we're all tryna win\\nBut then again, maybe it's for the best though\\n'Cause when they're sayin' too much\\nYou know they're tryna get you touched\\nWhoever said illegal was the easy way out\\nCouldn't understand the mechanics\\nAnd the workings of the underworld, granted\\nNine-to-five is how you survive, I ain't tryna survive\\nI'm tryna live it to the limit and love it a lot\\nLife ills poisoned my body, I used to say fuck mic skills\\nI never prayed to God, I prayed to Gotti\\nThat's right, it's wicked – that...   \n",
       "3  [Produced by Timbaland]\\n\\n[Verse 1]\\nYo, show closer, J-to-the-A-Y-Hovah\\nPlace shutter down, who the fuck'll fuck around?\\nGame spitter, Range sitter, Bentley driver nigga\\nKeep a full clip, I have to empty out on niggas\\nHo bagger, no slacker, get this shit jumping\\nLike eight blacks, four crackers, get your ass jumped\\nCris' sipper, six dipper, wrist glitter nigga\\nGat buster, ass toucher.. clit licker\\nGo against Jigga your ass is dense\\nI'm about a dollar, what the fuck is 50 Cents?\\nHot shit, kick a nigga, turn these mics out\\nMy jewelry so bright you can turn these lights out\\nHova's like Noah keep two in the truck\\nI'm like U-Haul; every bitch moving I fuck\\nYou move slut, I gotta put two in your butt\\nI'm everything: the when's, why's, who's, and what\\nNigga what?\\n[Chorus]\\nHell no you can't stop it, when it's hot it's hot\\nMy grind, keep me jumpin' out of drop to drop\\nMy shine, lose your sight tryna watch the watch\\nWhen there's drama Jigga pop, Jigga pop, pop\\nHell no...   \n",
       "4  [Intro: Jay-Z, Kid Capri & Both]\\nYeah, uh-huh, watch this y'all\\nUhh, watch this y'all\\nC'mon, Jigga, watch this y'all\\nC'mon, Roc-A-Fella y'all..\\nHuh! Watch this y'all\\nIt's  Kid Capri and Jay-Z, come on!\\nIt's Jay-Z and Kid Capri, don't stop, huh-huh!\\n'Cause I'm like that y'all, yeah\\nI'm really like that\\n\\n[Verse 1: Jay-Z]\\nAs a young'un, dumb and gun in the waist\\nSold crack to those who couldn't take the pain\\nAnd had to numb it with base\\nCouldn't drink the Henny straight, I needed somethin to chase\\nNowadays I throw shots back, leavin' nothin' to waste\\nLife's like a treadmill, niggas runnin' in place\\nGettin' nowhere fast, a whole year done past\\nI vowed to never stop winnin', 'til the earth stop spinnin'\\nRock hot linen, cop hot cars and hot women\\nIf it's not him then you got it confused, y'all not rememberin'\\nMy motto is, simply \"I will not lose!\"\\nAbide by the block rules, I buy my Glocks used\\nWith bodies on it, let me know anybody want it?\\nI'm raised, irrational...   \n",
       "\n",
       "    id decade  \n",
       "0    3  1990s  \n",
       "1   10  1990s  \n",
       "2   14  1990s  \n",
       "3   18  1990s  \n",
       "4  123  1990s  "
      ]
     },
     "execution_count": 154,
     "metadata": {},
     "output_type": "execute_result"
    }
   ],
   "source": [
    "df.head()"
   ]
  },
  {
   "cell_type": "markdown",
   "metadata": {},
   "source": [
    "Wstępna baza danych powinna być zrównoważona oraz nie za duża. Zostanie wybranych 3600 rekordów - po 200 z każdej dekady i gatunku."
   ]
  },
  {
   "cell_type": "code",
   "execution_count": 153,
   "metadata": {},
   "outputs": [
    {
     "data": {
      "text/plain": [
       "tag      decade\n",
       "country  1970s       6878\n",
       "         1980s       4553\n",
       "         1990s       7264\n",
       "misc     1970s       1067\n",
       "         1980s       1018\n",
       "         1990s       2765\n",
       "pop      1970s      33574\n",
       "         1980s      57186\n",
       "         1990s     134911\n",
       "rap      1970s        217\n",
       "         1980s       3347\n",
       "         1990s      21123\n",
       "rb       1970s       6288\n",
       "         1980s       5076\n",
       "         1990s       6808\n",
       "rock     1970s      17153\n",
       "         1980s      25984\n",
       "         1990s      50057\n",
       "dtype: int64"
      ]
     },
     "execution_count": 153,
     "metadata": {},
     "output_type": "execute_result"
    }
   ],
   "source": [
    "df.groupby(['tag','decade']).size()"
   ]
  },
  {
   "cell_type": "code",
   "execution_count": 155,
   "metadata": {},
   "outputs": [
    {
     "data": {
      "text/html": [
       "<div>\n",
       "<style scoped>\n",
       "    .dataframe tbody tr th:only-of-type {\n",
       "        vertical-align: middle;\n",
       "    }\n",
       "\n",
       "    .dataframe tbody tr th {\n",
       "        vertical-align: top;\n",
       "    }\n",
       "\n",
       "    .dataframe thead th {\n",
       "        text-align: right;\n",
       "    }\n",
       "</style>\n",
       "<table border=\"1\" class=\"dataframe\">\n",
       "  <thead>\n",
       "    <tr style=\"text-align: right;\">\n",
       "      <th></th>\n",
       "      <th>title</th>\n",
       "      <th>tag</th>\n",
       "      <th>artist</th>\n",
       "      <th>year</th>\n",
       "      <th>views</th>\n",
       "      <th>features</th>\n",
       "      <th>lyrics</th>\n",
       "      <th>id</th>\n",
       "      <th>decade</th>\n",
       "    </tr>\n",
       "  </thead>\n",
       "  <tbody>\n",
       "    <tr>\n",
       "      <th>0</th>\n",
       "      <td>Rocky Mountain High</td>\n",
       "      <td>country</td>\n",
       "      <td>John Denver</td>\n",
       "      <td>1972</td>\n",
       "      <td>34529</td>\n",
       "      <td>{}</td>\n",
       "      <td>[Verse 1]\\nHe was born in the summer of his 27th year\\nComin' home to a place he’d never been before\\nHe left yesterday behind him, you might say he was born again\\nYou might say he found a key for every door\\n\\n[Verse 2]\\nWhen he first came to the mountains his life was far away\\nOn the road and hangin’ by a song\\nBut the string’s already broken and he doesn’t really care\\nIt keeps changin' fast and it don’t last for long\\n\\n[Chorus]\\nBut the Colorado Rocky Mountain high\\nI’ve seen it rainin' fire in the sky\\nThe shadow from the starlight is softer than a lullaby\\nRocky Mountain high (Colorado)\\nRocky Mountain high (High in Colorado)\\n\\n[Verse 3]\\nHe climbed cathedral mountains, he saw silver clouds below\\nHe saw everything as far as you can see\\nAnd they say that he got crazy once, and he tried to touch the sun\\nAnd he lost a friend but kept the memory\\n[Verse 4]\\nNow he walks in quiet solitude the forests and the streams\\nSeeking grace in every step he takes\\nHis sight has turne...</td>\n",
       "      <td>2873</td>\n",
       "      <td>1970s</td>\n",
       "    </tr>\n",
       "    <tr>\n",
       "      <th>1</th>\n",
       "      <td>New Kid in Town</td>\n",
       "      <td>country</td>\n",
       "      <td>Eagles</td>\n",
       "      <td>1976</td>\n",
       "      <td>76529</td>\n",
       "      <td>{}</td>\n",
       "      <td>[Verse 1]\\nThere's talk on the street, it sounds so familiar\\nGreat expectations, everybody's watching you\\nPeople you meet, they all seem to know you\\nEven your old friends treat you like you're something new\\n\\n[Chorus]\\nJohnny-come-lately, the new kid in town\\nEverybody loves you, so don't let them down\\n\\n[Verse 2]\\nYou look in her eyes, the music begins to play\\nHopeless romantics, here we go again\\nBut after a while, you're lookin' the other way\\nIt's those restless hearts that never mend (Oh)\\n\\n[Chorus]\\nJohnny-come-lately, the new kid in town\\nWill she still love you when you're not around?\\n\\n[Bridge]\\nThere's so many things you should have told her\\nBut night after night, you're willing to hold her, just hold her\\nTears on your shoulder\\n[Verse 3]\\nThere's talk on the street, it's there to remind you\\nDoesn't really matter which side you're on\\nYou're walking away and they're talking behind you\\nThey will never forget you 'til somebody new comes along\\n\\n[Chorus]\\nWhere ...</td>\n",
       "      <td>54282</td>\n",
       "      <td>1970s</td>\n",
       "    </tr>\n",
       "    <tr>\n",
       "      <th>2</th>\n",
       "      <td>Pretty Maids All in a Row</td>\n",
       "      <td>country</td>\n",
       "      <td>Eagles</td>\n",
       "      <td>1976</td>\n",
       "      <td>21183</td>\n",
       "      <td>{}</td>\n",
       "      <td>[Verse 1]\\nHi there, how are you? It's been a long time\\nSeems like we've come a long way\\nMy, but we learn so slow\\nAnd heroes, they come and they go\\nAnd leave us behind as if we're supposed to know\\nWhy\\nWhy\\nWhy do we give up our hearts to the past?\\nAnd why must we grow up so fast?\\n\\n[Verse 2]\\nAnd all you wishing well fools with your fortunes\\nSomeone should send you a rose\\nWith love from a friend, it's nice to hear from you again\\nAnd the storybook comes to a close\\nGone are the ribbons and bows\\nThings to remember, places to go\\nPretty maids all in a row</td>\n",
       "      <td>54286</td>\n",
       "      <td>1970s</td>\n",
       "    </tr>\n",
       "    <tr>\n",
       "      <th>3</th>\n",
       "      <td>Try and Love Again</td>\n",
       "      <td>country</td>\n",
       "      <td>Eagles</td>\n",
       "      <td>1976</td>\n",
       "      <td>13921</td>\n",
       "      <td>{}</td>\n",
       "      <td>When you're out there on your own\\nWhere your memories can find you\\nLike a circle goes around\\nYou were lost until you found out\\nWhat it all comes down to\\n\\nOne by one the lonely feelings come\\nDay by day they slowly fade away\\n\\nOoh, the look was in her eyes\\nYou never know what might be found there\\nShe was dancing right in time\\nAnd the moves she made so fine\\nLike the music that surrounds her\\n\\nShould I stay or go? I really want to know\\nWould I lose or win if I try and love again?\\n\\nOh-oh, oh-oh, oh-oh-oh, gonna try and love again\\nOh-oh, oh-oh, oh-oh-oh, I'm gonna try and love again\\nOh-oh, oh-oh, oh-oh-oh, gonna try and love\\nRight or wrong, what's done is done\\nIt's only moments that you borrow\\nBut the thoughts will linger on\\nOf the lady and her song\\nWhen the sun comes up tomorrow\\nWell, it might take years\\nTo see through all these tears\\nDon't let go\\nWhen you find it, you will know\\n\\nOh-oh, oh-oh, oh-oh-oh, gonna try and love again\\nOh-oh, oh-oh, oh-oh-oh, gonna...</td>\n",
       "      <td>54287</td>\n",
       "      <td>1970s</td>\n",
       "    </tr>\n",
       "    <tr>\n",
       "      <th>4</th>\n",
       "      <td>Margaritaville</td>\n",
       "      <td>country</td>\n",
       "      <td>Jimmy Buffett</td>\n",
       "      <td>1977</td>\n",
       "      <td>144670</td>\n",
       "      <td>{}</td>\n",
       "      <td>[Verse 1]\\nNibblin' on sponge cake\\nWatchin' the sun bake\\nAll of those tourists covered with oil\\nStrummin' my six-string\\nOn my front porch swing\\nSmell those shrimp\\nThey're beginnin' to boil\\n\\n[Chorus]\\nWastin’ away again in Margaritaville\\nSearchin' for my lost shaker of salt\\nSome people claim that there's a woman to blame\\nBut I know it's nobody's fault\\n\\n[Verse 2]\\nDon't know the reason\\nI stayed here all season\\nNothin' to show but this brand new tattoo\\nBut it's a real beauty\\nA Mexican cutie\\nHow it got here I haven't a clue\\n[Chorus]\\nWastin’ away again in Margaritaville\\nSearchin' for my lost shaker of salt\\nSome people claim that there's a woman to blame\\nNow I think, hell, it could be my fault\\n\\n[Verse 3]\\nI blew out my flip-flop\\nStepped on a pop top\\nCut my heel had to cruise on back home\\nBut there’s booze in the blender\\nAnd soon it will render\\nThat frozen concoction that helps me hang on\\n\\n[Chorus]\\nWastin' away again in Margaritaville\\nSearchin' for my los...</td>\n",
       "      <td>60282</td>\n",
       "      <td>1970s</td>\n",
       "    </tr>\n",
       "  </tbody>\n",
       "</table>\n",
       "</div>"
      ],
      "text/plain": [
       "                       title      tag         artist  year   views features  \\\n",
       "0        Rocky Mountain High  country    John Denver  1972   34529       {}   \n",
       "1            New Kid in Town  country         Eagles  1976   76529       {}   \n",
       "2  Pretty Maids All in a Row  country         Eagles  1976   21183       {}   \n",
       "3         Try and Love Again  country         Eagles  1976   13921       {}   \n",
       "4             Margaritaville  country  Jimmy Buffett  1977  144670       {}   \n",
       "\n",
       "                                                                                                                                                                                                                                                                                                                                                                                                                                                                                                                                                                                                                                                                                                                                                                                                                                                                                                                                                                                                                                    lyrics  \\\n",
       "0  [Verse 1]\\nHe was born in the summer of his 27th year\\nComin' home to a place he’d never been before\\nHe left yesterday behind him, you might say he was born again\\nYou might say he found a key for every door\\n\\n[Verse 2]\\nWhen he first came to the mountains his life was far away\\nOn the road and hangin’ by a song\\nBut the string’s already broken and he doesn’t really care\\nIt keeps changin' fast and it don’t last for long\\n\\n[Chorus]\\nBut the Colorado Rocky Mountain high\\nI’ve seen it rainin' fire in the sky\\nThe shadow from the starlight is softer than a lullaby\\nRocky Mountain high (Colorado)\\nRocky Mountain high (High in Colorado)\\n\\n[Verse 3]\\nHe climbed cathedral mountains, he saw silver clouds below\\nHe saw everything as far as you can see\\nAnd they say that he got crazy once, and he tried to touch the sun\\nAnd he lost a friend but kept the memory\\n[Verse 4]\\nNow he walks in quiet solitude the forests and the streams\\nSeeking grace in every step he takes\\nHis sight has turne...   \n",
       "1  [Verse 1]\\nThere's talk on the street, it sounds so familiar\\nGreat expectations, everybody's watching you\\nPeople you meet, they all seem to know you\\nEven your old friends treat you like you're something new\\n\\n[Chorus]\\nJohnny-come-lately, the new kid in town\\nEverybody loves you, so don't let them down\\n\\n[Verse 2]\\nYou look in her eyes, the music begins to play\\nHopeless romantics, here we go again\\nBut after a while, you're lookin' the other way\\nIt's those restless hearts that never mend (Oh)\\n\\n[Chorus]\\nJohnny-come-lately, the new kid in town\\nWill she still love you when you're not around?\\n\\n[Bridge]\\nThere's so many things you should have told her\\nBut night after night, you're willing to hold her, just hold her\\nTears on your shoulder\\n[Verse 3]\\nThere's talk on the street, it's there to remind you\\nDoesn't really matter which side you're on\\nYou're walking away and they're talking behind you\\nThey will never forget you 'til somebody new comes along\\n\\n[Chorus]\\nWhere ...   \n",
       "2                                                                                                                                                                                                                                                                                                                                                                                                                                               [Verse 1]\\nHi there, how are you? It's been a long time\\nSeems like we've come a long way\\nMy, but we learn so slow\\nAnd heroes, they come and they go\\nAnd leave us behind as if we're supposed to know\\nWhy\\nWhy\\nWhy do we give up our hearts to the past?\\nAnd why must we grow up so fast?\\n\\n[Verse 2]\\nAnd all you wishing well fools with your fortunes\\nSomeone should send you a rose\\nWith love from a friend, it's nice to hear from you again\\nAnd the storybook comes to a close\\nGone are the ribbons and bows\\nThings to remember, places to go\\nPretty maids all in a row   \n",
       "3  When you're out there on your own\\nWhere your memories can find you\\nLike a circle goes around\\nYou were lost until you found out\\nWhat it all comes down to\\n\\nOne by one the lonely feelings come\\nDay by day they slowly fade away\\n\\nOoh, the look was in her eyes\\nYou never know what might be found there\\nShe was dancing right in time\\nAnd the moves she made so fine\\nLike the music that surrounds her\\n\\nShould I stay or go? I really want to know\\nWould I lose or win if I try and love again?\\n\\nOh-oh, oh-oh, oh-oh-oh, gonna try and love again\\nOh-oh, oh-oh, oh-oh-oh, I'm gonna try and love again\\nOh-oh, oh-oh, oh-oh-oh, gonna try and love\\nRight or wrong, what's done is done\\nIt's only moments that you borrow\\nBut the thoughts will linger on\\nOf the lady and her song\\nWhen the sun comes up tomorrow\\nWell, it might take years\\nTo see through all these tears\\nDon't let go\\nWhen you find it, you will know\\n\\nOh-oh, oh-oh, oh-oh-oh, gonna try and love again\\nOh-oh, oh-oh, oh-oh-oh, gonna...   \n",
       "4  [Verse 1]\\nNibblin' on sponge cake\\nWatchin' the sun bake\\nAll of those tourists covered with oil\\nStrummin' my six-string\\nOn my front porch swing\\nSmell those shrimp\\nThey're beginnin' to boil\\n\\n[Chorus]\\nWastin’ away again in Margaritaville\\nSearchin' for my lost shaker of salt\\nSome people claim that there's a woman to blame\\nBut I know it's nobody's fault\\n\\n[Verse 2]\\nDon't know the reason\\nI stayed here all season\\nNothin' to show but this brand new tattoo\\nBut it's a real beauty\\nA Mexican cutie\\nHow it got here I haven't a clue\\n[Chorus]\\nWastin’ away again in Margaritaville\\nSearchin' for my lost shaker of salt\\nSome people claim that there's a woman to blame\\nNow I think, hell, it could be my fault\\n\\n[Verse 3]\\nI blew out my flip-flop\\nStepped on a pop top\\nCut my heel had to cruise on back home\\nBut there’s booze in the blender\\nAnd soon it will render\\nThat frozen concoction that helps me hang on\\n\\n[Chorus]\\nWastin' away again in Margaritaville\\nSearchin' for my los...   \n",
       "\n",
       "      id decade  \n",
       "0   2873  1970s  \n",
       "1  54282  1970s  \n",
       "2  54286  1970s  \n",
       "3  54287  1970s  \n",
       "4  60282  1970s  "
      ]
     },
     "execution_count": 155,
     "metadata": {},
     "output_type": "execute_result"
    }
   ],
   "source": [
    "def take_first_200(group):\n",
    "    return group.head(200)\n",
    "\n",
    "df_3600 = df.groupby(['decade', 'tag']).apply(take_first_200)\n",
    "df_3600.reset_index(drop=True, inplace=True)\n",
    "\n",
    "df = df_3600\n",
    "df.head()"
   ]
  },
  {
   "cell_type": "code",
   "execution_count": 156,
   "metadata": {},
   "outputs": [
    {
     "name": "stdout",
     "output_type": "stream",
     "text": [
      "<class 'pandas.core.frame.DataFrame'>\n",
      "RangeIndex: 3600 entries, 0 to 3599\n",
      "Data columns (total 9 columns):\n",
      " #   Column    Non-Null Count  Dtype \n",
      "---  ------    --------------  ----- \n",
      " 0   title     3600 non-null   object\n",
      " 1   tag       3600 non-null   object\n",
      " 2   artist    3600 non-null   object\n",
      " 3   year      3600 non-null   int64 \n",
      " 4   views     3600 non-null   int64 \n",
      " 5   features  3600 non-null   object\n",
      " 6   lyrics    3600 non-null   object\n",
      " 7   id        3600 non-null   int64 \n",
      " 8   decade    3600 non-null   object\n",
      "dtypes: int64(3), object(6)\n",
      "memory usage: 253.3+ KB\n"
     ]
    }
   ],
   "source": [
    "df_3600.info()"
   ]
  },
  {
   "cell_type": "code",
   "execution_count": 157,
   "metadata": {},
   "outputs": [
    {
     "data": {
      "text/plain": [
       "decade  tag    \n",
       "1970s   country    200\n",
       "        misc       200\n",
       "        pop        200\n",
       "        rap        200\n",
       "        rb         200\n",
       "        rock       200\n",
       "1980s   country    200\n",
       "        misc       200\n",
       "        pop        200\n",
       "        rap        200\n",
       "        rb         200\n",
       "        rock       200\n",
       "1990s   country    200\n",
       "        misc       200\n",
       "        pop        200\n",
       "        rap        200\n",
       "        rb         200\n",
       "        rock       200\n",
       "dtype: int64"
      ]
     },
     "execution_count": 157,
     "metadata": {},
     "output_type": "execute_result"
    }
   ],
   "source": [
    "df.groupby(['decade','tag']).size()"
   ]
  },
  {
   "cell_type": "markdown",
   "metadata": {},
   "source": [
    "Pierwszym krokiem jest przygotowanie tekstów piosenek do analizy. W tym celu zostaną usunięte znaki interpunkcyjne, a także słowa nie niosące żadnej informacji (stopwords). Następnie tekst zostanie podzielony na pojedyncze słowa (tokenizacja) i zostanie przeprowadzona lematyzacja. Lematyzacja polega na sprowadzeniu słów do ich podstawowej formy."
   ]
  },
  {
   "cell_type": "code",
   "execution_count": 158,
   "metadata": {},
   "outputs": [],
   "source": [
    "def clean_text(x):\n",
    "    x = x.lower()\n",
    "    x = x.replace('\\n', ' ')\n",
    "    x = x.replace('  ', ' ')\n",
    "    x = x.replace('-', ' ')\n",
    "    # delete text in [] brackets\n",
    "    x = re.sub(r'\\[.*?\\]', '', x)\n",
    "    # leave only letters and spaces\n",
    "    x = re.sub(r'[^a-z\\s\\'\\-]', '', x)\n",
    "    return x\n",
    "\n",
    "\n",
    "df['cleaned_text'] = df['lyrics'].apply(lambda x: clean_text(x))\n"
   ]
  },
  {
   "cell_type": "code",
   "execution_count": 159,
   "metadata": {},
   "outputs": [
    {
     "data": {
      "text/html": [
       "<div>\n",
       "<style scoped>\n",
       "    .dataframe tbody tr th:only-of-type {\n",
       "        vertical-align: middle;\n",
       "    }\n",
       "\n",
       "    .dataframe tbody tr th {\n",
       "        vertical-align: top;\n",
       "    }\n",
       "\n",
       "    .dataframe thead th {\n",
       "        text-align: right;\n",
       "    }\n",
       "</style>\n",
       "<table border=\"1\" class=\"dataframe\">\n",
       "  <thead>\n",
       "    <tr style=\"text-align: right;\">\n",
       "      <th></th>\n",
       "      <th>cleaned_text</th>\n",
       "    </tr>\n",
       "  </thead>\n",
       "  <tbody>\n",
       "    <tr>\n",
       "      <th>0</th>\n",
       "      <td>he was born in the summer of his th year comin' home to a place hed never been before he left yesterday behind him you might say he was born again you might say he found a key for every door  when he first came to the mountains his life was far away on the road and hangin by a song but the strings already broken and he doesnt really care it keeps changin' fast and it dont last for long  but the colorado rocky mountain high ive seen it rainin' fire in the sky the shadow from the starlight is softer than a lullaby rocky mountain high colorado rocky mountain high high in colorado  he climbed cathedral mountains he saw silver clouds below he saw everything as far as you can see and they say that he got crazy once and he tried to touch the sun and he lost a friend but kept the memory  now he walks in quiet solitude the forests and the streams seeking grace in every step he takes his sight has turned inside himself to try and understand the serenity of a clear blue mountain lake  and th...</td>\n",
       "    </tr>\n",
       "    <tr>\n",
       "      <th>1</th>\n",
       "      <td>there's talk on the street it sounds so familiar great expectations everybody's watching you people you meet they all seem to know you even your old friends treat you like you're something new  johnny come lately the new kid in town everybody loves you so don't let them down  you look in her eyes the music begins to play hopeless romantics here we go again but after a while you're lookin' the other way it's those restless hearts that never mend oh  johnny come lately the new kid in town will she still love you when you're not around  there's so many things you should have told her but night after night you're willing to hold her just hold her tears on your shoulder  there's talk on the street it's there to remind you doesn't really matter which side you're on you're walking away and they're talking behind you they will never forget you 'til somebody new comes along  where you've been lately there's a new kid in town everybody loves him don't they he's holding her and you're still ...</td>\n",
       "    </tr>\n",
       "    <tr>\n",
       "      <th>2</th>\n",
       "      <td>hi there how are you it's been a long time seems like we've come a long way my but we learn so slow and heroes they come and they go and leave us behind as if we're supposed to know why why why do we give up our hearts to the past and why must we grow up so fast  and all you wishing well fools with your fortunes someone should send you a rose with love from a friend it's nice to hear from you again and the storybook comes to a close gone are the ribbons and bows things to remember places to go pretty maids all in a row</td>\n",
       "    </tr>\n",
       "    <tr>\n",
       "      <th>3</th>\n",
       "      <td>when you're out there on your own where your memories can find you like a circle goes around you were lost until you found out what it all comes down to one by one the lonely feelings come day by day they slowly fade away ooh the look was in her eyes you never know what might be found there she was dancing right in time and the moves she made so fine like the music that surrounds her should i stay or go i really want to know would i lose or win if i try and love again oh oh oh oh oh oh oh gonna try and love again oh oh oh oh oh oh oh i'm gonna try and love again oh oh oh oh oh oh oh gonna try and love right or wrong what's done is done it's only moments that you borrow but the thoughts will linger on of the lady and her song when the sun comes up tomorrow well it might take years to see through all these tears don't let go when you find it you will know oh oh oh oh oh oh oh gonna try and love again oh oh oh oh oh oh oh gonna try and love again oh oh oh oh oh oh oh gonna try and lov...</td>\n",
       "    </tr>\n",
       "    <tr>\n",
       "      <th>4</th>\n",
       "      <td>nibblin' on sponge cake watchin' the sun bake all of those tourists covered with oil strummin' my six string on my front porch swing smell those shrimp they're beginnin' to boil  wastin away again in margaritaville searchin' for my lost shaker of salt some people claim that there's a woman to blame but i know it's nobody's fault  don't know the reason i stayed here all season nothin' to show but this brand new tattoo but it's a real beauty a mexican cutie how it got here i haven't a clue  wastin away again in margaritaville searchin' for my lost shaker of salt some people claim that there's a woman to blame now i think hell it could be my fault  i blew out my flip flop stepped on a pop top cut my heel had to cruise on back home but theres booze in the blender and soon it will render that frozen concoction that helps me hang on  wastin' away again in margaritaville searchin' for my lost shaker of salt some people claim that theres a woman to blame but i know its my own damn fault  ...</td>\n",
       "    </tr>\n",
       "  </tbody>\n",
       "</table>\n",
       "</div>"
      ],
      "text/plain": [
       "                                                                                                                                                                                                                                                                                                                                                                                                                                                                                                                                                                                                                                                                                                                                                                                                                                                                                                                                                                                                                              cleaned_text\n",
       "0   he was born in the summer of his th year comin' home to a place hed never been before he left yesterday behind him you might say he was born again you might say he found a key for every door  when he first came to the mountains his life was far away on the road and hangin by a song but the strings already broken and he doesnt really care it keeps changin' fast and it dont last for long  but the colorado rocky mountain high ive seen it rainin' fire in the sky the shadow from the starlight is softer than a lullaby rocky mountain high colorado rocky mountain high high in colorado  he climbed cathedral mountains he saw silver clouds below he saw everything as far as you can see and they say that he got crazy once and he tried to touch the sun and he lost a friend but kept the memory  now he walks in quiet solitude the forests and the streams seeking grace in every step he takes his sight has turned inside himself to try and understand the serenity of a clear blue mountain lake  and th...\n",
       "1   there's talk on the street it sounds so familiar great expectations everybody's watching you people you meet they all seem to know you even your old friends treat you like you're something new  johnny come lately the new kid in town everybody loves you so don't let them down  you look in her eyes the music begins to play hopeless romantics here we go again but after a while you're lookin' the other way it's those restless hearts that never mend oh  johnny come lately the new kid in town will she still love you when you're not around  there's so many things you should have told her but night after night you're willing to hold her just hold her tears on your shoulder  there's talk on the street it's there to remind you doesn't really matter which side you're on you're walking away and they're talking behind you they will never forget you 'til somebody new comes along  where you've been lately there's a new kid in town everybody loves him don't they he's holding her and you're still ...\n",
       "2                                                                                                                                                                                                                                                                                                                                                                                                                                                                                             hi there how are you it's been a long time seems like we've come a long way my but we learn so slow and heroes they come and they go and leave us behind as if we're supposed to know why why why do we give up our hearts to the past and why must we grow up so fast  and all you wishing well fools with your fortunes someone should send you a rose with love from a friend it's nice to hear from you again and the storybook comes to a close gone are the ribbons and bows things to remember places to go pretty maids all in a row\n",
       "3  when you're out there on your own where your memories can find you like a circle goes around you were lost until you found out what it all comes down to one by one the lonely feelings come day by day they slowly fade away ooh the look was in her eyes you never know what might be found there she was dancing right in time and the moves she made so fine like the music that surrounds her should i stay or go i really want to know would i lose or win if i try and love again oh oh oh oh oh oh oh gonna try and love again oh oh oh oh oh oh oh i'm gonna try and love again oh oh oh oh oh oh oh gonna try and love right or wrong what's done is done it's only moments that you borrow but the thoughts will linger on of the lady and her song when the sun comes up tomorrow well it might take years to see through all these tears don't let go when you find it you will know oh oh oh oh oh oh oh gonna try and love again oh oh oh oh oh oh oh gonna try and love again oh oh oh oh oh oh oh gonna try and lov...\n",
       "4   nibblin' on sponge cake watchin' the sun bake all of those tourists covered with oil strummin' my six string on my front porch swing smell those shrimp they're beginnin' to boil  wastin away again in margaritaville searchin' for my lost shaker of salt some people claim that there's a woman to blame but i know it's nobody's fault  don't know the reason i stayed here all season nothin' to show but this brand new tattoo but it's a real beauty a mexican cutie how it got here i haven't a clue  wastin away again in margaritaville searchin' for my lost shaker of salt some people claim that there's a woman to blame now i think hell it could be my fault  i blew out my flip flop stepped on a pop top cut my heel had to cruise on back home but theres booze in the blender and soon it will render that frozen concoction that helps me hang on  wastin' away again in margaritaville searchin' for my lost shaker of salt some people claim that theres a woman to blame but i know its my own damn fault  ..."
      ]
     },
     "execution_count": 159,
     "metadata": {},
     "output_type": "execute_result"
    }
   ],
   "source": [
    "pd.set_option('display.max_colwidth', 1000)\n",
    "df[['cleaned_text']].head(5)"
   ]
  },
  {
   "cell_type": "code",
   "execution_count": 160,
   "metadata": {},
   "outputs": [],
   "source": [
    "custom_stopwords = [\n",
    "    \"haha\", \"ha\", \"hehe\",\"he\", \"lol\", \"yeah\", \"yo\", \"hey\", \"ay\",\"la\", \"na\", \"da\", \"je\", \"le\", \"te\",\"oh\", \"ah\", \"uh\", \"eh\", \"hm\", \"mm\",\"doo\", \"dee\", \"bop\", \"beep\", \"sha\", \"oh\", \"uh-huh\", \"huh-huh\"\n",
    "    \"woo\", \"whoa\", \"oh-oh\", \"uh-oh\", \"la-la\", \"la-la-la\",\"yeah-yeah\", \"no-no\", \"ha-ha\", \"oh-no\", \"na-na\",\"yeah-yeah-yeah\", \"la-la-la-la\", \"na-na-na-na\",\"yeah-yeah-yeah-yeah\", \"uh-huh\", \"uh-uh\", \"hmm\", \"mmm\",\n",
    "    \"yeah-uh\", \"ooh\", \"aah\", \"wow\", \"yay\", \"yikes\",\"whoop\", \"woah\", \"ugh\", \"yow\", \"yep\", \"yup\",\"oh-yeah\", \"oh-boy\", \"ahoy\", \"bravo\", \"oy\", \"oy-vey\",\n",
    "    \"whoops\", \"yoo-hoo\", \"yahoo\", \"woop-woop\", \"gosh\", \"geez\",\"zap\", \"zowie\", \"zing\", \"bada-bing\", \"bam\",\"bling\", \"clink\", \"kapow\", \"kerpow\", \"pow\", \"splat\",\n",
    "    \"swish\", \"thud\", \"wham\", \"zzz\",\"giggle\", \"snicker\", \"snort\", \"chuckle\", \"snigger\", \"teehee\", \"th\",\"there's\",\n",
    "    \"hee-haw\", \"heh-heh\", \"hohoho\", \"harr-harr\", \"haw-haw\", \"guffaw\",\"blah\", \"blah-blah\", \"meh\", \"bleh\", \"huh\", \"duh\",\"fuck\", \"nigga\",\"nig\",\"jigga\", \"noah\",\"niggas\", \"bitch\",\"bitches\",\"hah\", \"y'all\", \"pop\"\n",
    "]"
   ]
  },
  {
   "cell_type": "code",
   "execution_count": 161,
   "metadata": {},
   "outputs": [
    {
     "name": "stderr",
     "output_type": "stream",
     "text": [
      "[nltk_data] Downloading package stopwords to\n",
      "[nltk_data]     C:\\Users\\zofia\\AppData\\Roaming\\nltk_data...\n",
      "[nltk_data]   Package stopwords is already up-to-date!\n"
     ]
    }
   ],
   "source": [
    "#add stopwords\n",
    "nltk.download('stopwords')\n",
    "lemmatizer = WordNetLemmatizer()\n",
    "\n",
    "stop = stopwords.words('english')\n",
    "stop = stop+custom_stopwords\n",
    "\n",
    "def tokenize(x):\n",
    "    #delete stopwords\n",
    "    x = ' '.join([word for word in x.split() if word not in (stop)])\n",
    "    return x\n",
    " \n",
    "def lemmatize(x):\n",
    "    x = ' '.join([lemmatizer.lemmatize(word) for word in x.split()])\n",
    "    return x\n"
   ]
  },
  {
   "cell_type": "code",
   "execution_count": 162,
   "metadata": {},
   "outputs": [],
   "source": [
    "df['tokenize'] = df['cleaned_text'].apply(lambda x: tokenize(x))"
   ]
  },
  {
   "cell_type": "code",
   "execution_count": 163,
   "metadata": {},
   "outputs": [],
   "source": [
    "df['lemmatize'] = df['tokenize'].apply(lambda x: lemmatize(x))"
   ]
  },
  {
   "cell_type": "code",
   "execution_count": 164,
   "metadata": {},
   "outputs": [
    {
     "data": {
      "text/html": [
       "<div>\n",
       "<style scoped>\n",
       "    .dataframe tbody tr th:only-of-type {\n",
       "        vertical-align: middle;\n",
       "    }\n",
       "\n",
       "    .dataframe tbody tr th {\n",
       "        vertical-align: top;\n",
       "    }\n",
       "\n",
       "    .dataframe thead th {\n",
       "        text-align: right;\n",
       "    }\n",
       "</style>\n",
       "<table border=\"1\" class=\"dataframe\">\n",
       "  <thead>\n",
       "    <tr style=\"text-align: right;\">\n",
       "      <th></th>\n",
       "      <th>lyrics</th>\n",
       "      <th>cleaned_text</th>\n",
       "      <th>tokenize</th>\n",
       "      <th>lemmatize</th>\n",
       "    </tr>\n",
       "  </thead>\n",
       "  <tbody>\n",
       "    <tr>\n",
       "      <th>0</th>\n",
       "      <td>[Verse 1]\\nHe was born in the summer of his 27th year\\nComin' home to a place he’d never been before\\nHe left yesterday behind him, you might say he was born again\\nYou might say he found a key for every door\\n\\n[Verse 2]\\nWhen he first came to the mountains his life was far away\\nOn the road and hangin’ by a song\\nBut the string’s already broken and he doesn’t really care\\nIt keeps changin' fast and it don’t last for long\\n\\n[Chorus]\\nBut the Colorado Rocky Mountain high\\nI’ve seen it rainin' fire in the sky\\nThe shadow from the starlight is softer than a lullaby\\nRocky Mountain high (Colorado)\\nRocky Mountain high (High in Colorado)\\n\\n[Verse 3]\\nHe climbed cathedral mountains, he saw silver clouds below\\nHe saw everything as far as you can see\\nAnd they say that he got crazy once, and he tried to touch the sun\\nAnd he lost a friend but kept the memory\\n[Verse 4]\\nNow he walks in quiet solitude the forests and the streams\\nSeeking grace in every step he takes\\nHis sight has turne...</td>\n",
       "      <td>he was born in the summer of his th year comin' home to a place hed never been before he left yesterday behind him you might say he was born again you might say he found a key for every door  when he first came to the mountains his life was far away on the road and hangin by a song but the strings already broken and he doesnt really care it keeps changin' fast and it dont last for long  but the colorado rocky mountain high ive seen it rainin' fire in the sky the shadow from the starlight is softer than a lullaby rocky mountain high colorado rocky mountain high high in colorado  he climbed cathedral mountains he saw silver clouds below he saw everything as far as you can see and they say that he got crazy once and he tried to touch the sun and he lost a friend but kept the memory  now he walks in quiet solitude the forests and the streams seeking grace in every step he takes his sight has turned inside himself to try and understand the serenity of a clear blue mountain lake  and th...</td>\n",
       "      <td>born summer year comin' home place hed never left yesterday behind might say born might say found key every door first came mountains life far away road hangin song strings already broken doesnt really care keeps changin' fast dont last long colorado rocky mountain high ive seen rainin' fire sky shadow starlight softer lullaby rocky mountain high colorado rocky mountain high high colorado climbed cathedral mountains saw silver clouds saw everything far see say got crazy tried touch sun lost friend kept memory walks quiet solitude forests streams seeking grace every step takes sight turned inside try understand serenity clear blue mountain lake colorado rocky mountain high ive seen rainin' fire sky talk god listen casual reply rocky mountain high high colorado rocky mountain high high colorado life full wonder heart still knows fear simple thing cannot comprehend try tear mountains bring couple people scars upon land colorado rocky mountain high ive seen rainin' fire sky though he'd...</td>\n",
       "      <td>born summer year comin' home place hed never left yesterday behind might say born might say found key every door first came mountain life far away road hangin song string already broken doesnt really care keep changin' fast dont last long colorado rocky mountain high ive seen rainin' fire sky shadow starlight softer lullaby rocky mountain high colorado rocky mountain high high colorado climbed cathedral mountain saw silver cloud saw everything far see say got crazy tried touch sun lost friend kept memory walk quiet solitude forest stream seeking grace every step take sight turned inside try understand serenity clear blue mountain lake colorado rocky mountain high ive seen rainin' fire sky talk god listen casual reply rocky mountain high high colorado rocky mountain high high colorado life full wonder heart still know fear simple thing cannot comprehend try tear mountain bring couple people scar upon land colorado rocky mountain high ive seen rainin' fire sky though he'd poorer man ...</td>\n",
       "    </tr>\n",
       "    <tr>\n",
       "      <th>1</th>\n",
       "      <td>[Verse 1]\\nThere's talk on the street, it sounds so familiar\\nGreat expectations, everybody's watching you\\nPeople you meet, they all seem to know you\\nEven your old friends treat you like you're something new\\n\\n[Chorus]\\nJohnny-come-lately, the new kid in town\\nEverybody loves you, so don't let them down\\n\\n[Verse 2]\\nYou look in her eyes, the music begins to play\\nHopeless romantics, here we go again\\nBut after a while, you're lookin' the other way\\nIt's those restless hearts that never mend (Oh)\\n\\n[Chorus]\\nJohnny-come-lately, the new kid in town\\nWill she still love you when you're not around?\\n\\n[Bridge]\\nThere's so many things you should have told her\\nBut night after night, you're willing to hold her, just hold her\\nTears on your shoulder\\n[Verse 3]\\nThere's talk on the street, it's there to remind you\\nDoesn't really matter which side you're on\\nYou're walking away and they're talking behind you\\nThey will never forget you 'til somebody new comes along\\n\\n[Chorus]\\nWhere ...</td>\n",
       "      <td>there's talk on the street it sounds so familiar great expectations everybody's watching you people you meet they all seem to know you even your old friends treat you like you're something new  johnny come lately the new kid in town everybody loves you so don't let them down  you look in her eyes the music begins to play hopeless romantics here we go again but after a while you're lookin' the other way it's those restless hearts that never mend oh  johnny come lately the new kid in town will she still love you when you're not around  there's so many things you should have told her but night after night you're willing to hold her just hold her tears on your shoulder  there's talk on the street it's there to remind you doesn't really matter which side you're on you're walking away and they're talking behind you they will never forget you 'til somebody new comes along  where you've been lately there's a new kid in town everybody loves him don't they he's holding her and you're still ...</td>\n",
       "      <td>talk street sounds familiar great expectations everybody's watching people meet seem know even old friends treat like something new johnny come lately new kid town everybody loves let look eyes music begins play hopeless romantics go lookin' way restless hearts never mend johnny come lately new kid town still love around many things told night night willing hold hold tears shoulder talk street remind really matter side walking away they're talking behind never forget 'til somebody new comes along lately new kid town everybody loves he's holding still around new kid town another new kid town hoo everybody's talking 'bout hoo new kid town hoo everybody's walking like hoo new kid town new kid town want hear new kid town want hear new kid town new kid town new kid town everybody's talking new kid town people started walking new kid town new kid town new kid town new kid town</td>\n",
       "      <td>talk street sound familiar great expectation everybody's watching people meet seem know even old friend treat like something new johnny come lately new kid town everybody love let look eye music begin play hopeless romantic go lookin' way restless heart never mend johnny come lately new kid town still love around many thing told night night willing hold hold tear shoulder talk street remind really matter side walking away they're talking behind never forget 'til somebody new come along lately new kid town everybody love he's holding still around new kid town another new kid town hoo everybody's talking 'bout hoo new kid town hoo everybody's walking like hoo new kid town new kid town want hear new kid town want hear new kid town new kid town new kid town everybody's talking new kid town people started walking new kid town new kid town new kid town new kid town</td>\n",
       "    </tr>\n",
       "  </tbody>\n",
       "</table>\n",
       "</div>"
      ],
      "text/plain": [
       "                                                                                                                                                                                                                                                                                                                                                                                                                                                                                                                                                                                                                                                                                                                                                                                                                                                                                                                                                                                                                                    lyrics  \\\n",
       "0  [Verse 1]\\nHe was born in the summer of his 27th year\\nComin' home to a place he’d never been before\\nHe left yesterday behind him, you might say he was born again\\nYou might say he found a key for every door\\n\\n[Verse 2]\\nWhen he first came to the mountains his life was far away\\nOn the road and hangin’ by a song\\nBut the string’s already broken and he doesn’t really care\\nIt keeps changin' fast and it don’t last for long\\n\\n[Chorus]\\nBut the Colorado Rocky Mountain high\\nI’ve seen it rainin' fire in the sky\\nThe shadow from the starlight is softer than a lullaby\\nRocky Mountain high (Colorado)\\nRocky Mountain high (High in Colorado)\\n\\n[Verse 3]\\nHe climbed cathedral mountains, he saw silver clouds below\\nHe saw everything as far as you can see\\nAnd they say that he got crazy once, and he tried to touch the sun\\nAnd he lost a friend but kept the memory\\n[Verse 4]\\nNow he walks in quiet solitude the forests and the streams\\nSeeking grace in every step he takes\\nHis sight has turne...   \n",
       "1  [Verse 1]\\nThere's talk on the street, it sounds so familiar\\nGreat expectations, everybody's watching you\\nPeople you meet, they all seem to know you\\nEven your old friends treat you like you're something new\\n\\n[Chorus]\\nJohnny-come-lately, the new kid in town\\nEverybody loves you, so don't let them down\\n\\n[Verse 2]\\nYou look in her eyes, the music begins to play\\nHopeless romantics, here we go again\\nBut after a while, you're lookin' the other way\\nIt's those restless hearts that never mend (Oh)\\n\\n[Chorus]\\nJohnny-come-lately, the new kid in town\\nWill she still love you when you're not around?\\n\\n[Bridge]\\nThere's so many things you should have told her\\nBut night after night, you're willing to hold her, just hold her\\nTears on your shoulder\\n[Verse 3]\\nThere's talk on the street, it's there to remind you\\nDoesn't really matter which side you're on\\nYou're walking away and they're talking behind you\\nThey will never forget you 'til somebody new comes along\\n\\n[Chorus]\\nWhere ...   \n",
       "\n",
       "                                                                                                                                                                                                                                                                                                                                                                                                                                                                                                                                                                                                                                                                                                                                                                                                                                                                                                                                                                                                                              cleaned_text  \\\n",
       "0   he was born in the summer of his th year comin' home to a place hed never been before he left yesterday behind him you might say he was born again you might say he found a key for every door  when he first came to the mountains his life was far away on the road and hangin by a song but the strings already broken and he doesnt really care it keeps changin' fast and it dont last for long  but the colorado rocky mountain high ive seen it rainin' fire in the sky the shadow from the starlight is softer than a lullaby rocky mountain high colorado rocky mountain high high in colorado  he climbed cathedral mountains he saw silver clouds below he saw everything as far as you can see and they say that he got crazy once and he tried to touch the sun and he lost a friend but kept the memory  now he walks in quiet solitude the forests and the streams seeking grace in every step he takes his sight has turned inside himself to try and understand the serenity of a clear blue mountain lake  and th...   \n",
       "1   there's talk on the street it sounds so familiar great expectations everybody's watching you people you meet they all seem to know you even your old friends treat you like you're something new  johnny come lately the new kid in town everybody loves you so don't let them down  you look in her eyes the music begins to play hopeless romantics here we go again but after a while you're lookin' the other way it's those restless hearts that never mend oh  johnny come lately the new kid in town will she still love you when you're not around  there's so many things you should have told her but night after night you're willing to hold her just hold her tears on your shoulder  there's talk on the street it's there to remind you doesn't really matter which side you're on you're walking away and they're talking behind you they will never forget you 'til somebody new comes along  where you've been lately there's a new kid in town everybody loves him don't they he's holding her and you're still ...   \n",
       "\n",
       "                                                                                                                                                                                                                                                                                                                                                                                                                                                                                                                                                                                                                                                                                                                                                                                                                                                                                                                                                                                                                                  tokenize  \\\n",
       "0  born summer year comin' home place hed never left yesterday behind might say born might say found key every door first came mountains life far away road hangin song strings already broken doesnt really care keeps changin' fast dont last long colorado rocky mountain high ive seen rainin' fire sky shadow starlight softer lullaby rocky mountain high colorado rocky mountain high high colorado climbed cathedral mountains saw silver clouds saw everything far see say got crazy tried touch sun lost friend kept memory walks quiet solitude forests streams seeking grace every step takes sight turned inside try understand serenity clear blue mountain lake colorado rocky mountain high ive seen rainin' fire sky talk god listen casual reply rocky mountain high high colorado rocky mountain high high colorado life full wonder heart still knows fear simple thing cannot comprehend try tear mountains bring couple people scars upon land colorado rocky mountain high ive seen rainin' fire sky though he'd...   \n",
       "1                                                                                                                      talk street sounds familiar great expectations everybody's watching people meet seem know even old friends treat like something new johnny come lately new kid town everybody loves let look eyes music begins play hopeless romantics go lookin' way restless hearts never mend johnny come lately new kid town still love around many things told night night willing hold hold tears shoulder talk street remind really matter side walking away they're talking behind never forget 'til somebody new comes along lately new kid town everybody loves he's holding still around new kid town another new kid town hoo everybody's talking 'bout hoo new kid town hoo everybody's walking like hoo new kid town new kid town want hear new kid town want hear new kid town new kid town new kid town everybody's talking new kid town people started walking new kid town new kid town new kid town new kid town   \n",
       "\n",
       "                                                                                                                                                                                                                                                                                                                                                                                                                                                                                                                                                                                                                                                                                                                                                                                                                                                                                                                                                                                                                                 lemmatize  \n",
       "0  born summer year comin' home place hed never left yesterday behind might say born might say found key every door first came mountain life far away road hangin song string already broken doesnt really care keep changin' fast dont last long colorado rocky mountain high ive seen rainin' fire sky shadow starlight softer lullaby rocky mountain high colorado rocky mountain high high colorado climbed cathedral mountain saw silver cloud saw everything far see say got crazy tried touch sun lost friend kept memory walk quiet solitude forest stream seeking grace every step take sight turned inside try understand serenity clear blue mountain lake colorado rocky mountain high ive seen rainin' fire sky talk god listen casual reply rocky mountain high high colorado rocky mountain high high colorado life full wonder heart still know fear simple thing cannot comprehend try tear mountain bring couple people scar upon land colorado rocky mountain high ive seen rainin' fire sky though he'd poorer man ...  \n",
       "1                                                                                                                                  talk street sound familiar great expectation everybody's watching people meet seem know even old friend treat like something new johnny come lately new kid town everybody love let look eye music begin play hopeless romantic go lookin' way restless heart never mend johnny come lately new kid town still love around many thing told night night willing hold hold tear shoulder talk street remind really matter side walking away they're talking behind never forget 'til somebody new come along lately new kid town everybody love he's holding still around new kid town another new kid town hoo everybody's talking 'bout hoo new kid town hoo everybody's walking like hoo new kid town new kid town want hear new kid town want hear new kid town new kid town new kid town everybody's talking new kid town people started walking new kid town new kid town new kid town new kid town  "
      ]
     },
     "execution_count": 164,
     "metadata": {},
     "output_type": "execute_result"
    }
   ],
   "source": [
    "#pd.set_option('display.max_colwidth', None)\n",
    "df[ ['lyrics','cleaned_text','tokenize','lemmatize']].head(2)"
   ]
  },
  {
   "cell_type": "code",
   "execution_count": 165,
   "metadata": {},
   "outputs": [
    {
     "name": "stdout",
     "output_type": "stream",
     "text": [
      "<class 'pandas.core.frame.DataFrame'>\n",
      "RangeIndex: 3600 entries, 0 to 3599\n",
      "Data columns (total 12 columns):\n",
      " #   Column        Non-Null Count  Dtype \n",
      "---  ------        --------------  ----- \n",
      " 0   title         3600 non-null   object\n",
      " 1   tag           3600 non-null   object\n",
      " 2   artist        3600 non-null   object\n",
      " 3   year          3600 non-null   int64 \n",
      " 4   views         3600 non-null   int64 \n",
      " 5   features      3600 non-null   object\n",
      " 6   lyrics        3600 non-null   object\n",
      " 7   id            3600 non-null   int64 \n",
      " 8   decade        3600 non-null   object\n",
      " 9   cleaned_text  3600 non-null   object\n",
      " 10  tokenize      3600 non-null   object\n",
      " 11  lemmatize     3600 non-null   object\n",
      "dtypes: int64(3), object(9)\n",
      "memory usage: 337.6+ KB\n"
     ]
    }
   ],
   "source": [
    "df.info()"
   ]
  },
  {
   "cell_type": "code",
   "execution_count": null,
   "metadata": {},
   "outputs": [],
   "source": [
    "df['lyrcis_preprocessed'] = df['lemmatize']"
   ]
  },
  {
   "cell_type": "markdown",
   "metadata": {},
   "source": [
    "Aby pokazać różnicę między tekstem przed a po przeprowadzeniu powyższych operacji, policzona została różnica w ilości słów w tekście przed i po przeprowadzeniu powyższych operacji.\n",
    "Jak widać, po przeprowadzeniu powyższych operacji ilość słów w tekście zmniejszyła się o około 30% w kazdym z tekstów."
   ]
  },
  {
   "cell_type": "code",
   "execution_count": 167,
   "metadata": {},
   "outputs": [
    {
     "data": {
      "text/html": [
       "<div>\n",
       "<style scoped>\n",
       "    .dataframe tbody tr th:only-of-type {\n",
       "        vertical-align: middle;\n",
       "    }\n",
       "\n",
       "    .dataframe tbody tr th {\n",
       "        vertical-align: top;\n",
       "    }\n",
       "\n",
       "    .dataframe thead th {\n",
       "        text-align: right;\n",
       "    }\n",
       "</style>\n",
       "<table border=\"1\" class=\"dataframe\">\n",
       "  <thead>\n",
       "    <tr style=\"text-align: right;\">\n",
       "      <th></th>\n",
       "      <th>text_length</th>\n",
       "      <th>lyrcis_preprocessed_length</th>\n",
       "      <th>length_difference</th>\n",
       "    </tr>\n",
       "  </thead>\n",
       "  <tbody>\n",
       "    <tr>\n",
       "      <th>0</th>\n",
       "      <td>2002</td>\n",
       "      <td>1334</td>\n",
       "      <td>668</td>\n",
       "    </tr>\n",
       "    <tr>\n",
       "      <th>1</th>\n",
       "      <td>1653</td>\n",
       "      <td>871</td>\n",
       "      <td>782</td>\n",
       "    </tr>\n",
       "    <tr>\n",
       "      <th>2</th>\n",
       "      <td>552</td>\n",
       "      <td>276</td>\n",
       "      <td>276</td>\n",
       "    </tr>\n",
       "    <tr>\n",
       "      <th>3</th>\n",
       "      <td>1502</td>\n",
       "      <td>795</td>\n",
       "      <td>707</td>\n",
       "    </tr>\n",
       "    <tr>\n",
       "      <th>4</th>\n",
       "      <td>1156</td>\n",
       "      <td>691</td>\n",
       "      <td>465</td>\n",
       "    </tr>\n",
       "  </tbody>\n",
       "</table>\n",
       "</div>"
      ],
      "text/plain": [
       "   text_length  lyrcis_preprocessed_length  length_difference\n",
       "0         2002                        1334                668\n",
       "1         1653                         871                782\n",
       "2          552                         276                276\n",
       "3         1502                         795                707\n",
       "4         1156                         691                465"
      ]
     },
     "execution_count": 167,
     "metadata": {},
     "output_type": "execute_result"
    }
   ],
   "source": [
    "df['text_length'] = df['lyrics'].apply(lambda x: len(x))\n",
    "df['lyrcis_preprocessed_length'] = df['lyrcis_preprocessed'].apply(lambda x: len(x))\n",
    "df['length_difference'] = df['text_length'] - df['lyrcis_preprocessed_length']\n",
    "\n",
    "df[['text_length', 'lyrcis_preprocessed_length', 'length_difference']].head()"
   ]
  },
  {
   "cell_type": "code",
   "execution_count": null,
   "metadata": {},
   "outputs": [],
   "source": [
    "df = df.drop(columns=['lemmatize','tokenize','text_length','lyrcis_preprocessed_length','length_difference','cleaned_text'], axis=1)"
   ]
  },
  {
   "cell_type": "code",
   "execution_count": 170,
   "metadata": {},
   "outputs": [
    {
     "name": "stdout",
     "output_type": "stream",
     "text": [
      "<class 'pandas.core.frame.DataFrame'>\n",
      "RangeIndex: 3600 entries, 0 to 3599\n",
      "Data columns (total 10 columns):\n",
      " #   Column               Non-Null Count  Dtype \n",
      "---  ------               --------------  ----- \n",
      " 0   title                3600 non-null   object\n",
      " 1   tag                  3600 non-null   object\n",
      " 2   artist               3600 non-null   object\n",
      " 3   year                 3600 non-null   int64 \n",
      " 4   views                3600 non-null   int64 \n",
      " 5   features             3600 non-null   object\n",
      " 6   lyrics               3600 non-null   object\n",
      " 7   id                   3600 non-null   int64 \n",
      " 8   decade               3600 non-null   object\n",
      " 9   lyrcis_preprocessed  3600 non-null   object\n",
      "dtypes: int64(3), object(7)\n",
      "memory usage: 281.4+ KB\n"
     ]
    }
   ],
   "source": [
    "df.info()"
   ]
  },
  {
   "cell_type": "markdown",
   "metadata": {},
   "source": [
    "Próbka testowa zostanie zbadana pod kątem sentymentu występującego w piosenkach. W tym celu zostanie wykorzystana biblioteka NLTK. Dla każdej piosenki zostanie obliczony sentyment, a następnie zostanie on przypisany do jednej z kategorii: pozytywny, negatywny, neutralny."
   ]
  },
  {
   "cell_type": "code",
   "execution_count": 171,
   "metadata": {},
   "outputs": [],
   "source": [
    "sid = SentimentIntensityAnalyzer()\n",
    "\n",
    "df['sentiment'] = df['lyrcis_preprocessed'].apply(lambda x: sid.polarity_scores(x))\n",
    "df['compound'] = df['sentiment'].apply(lambda score_dict: score_dict['compound'])\n",
    "\n"
   ]
  },
  {
   "cell_type": "code",
   "execution_count": 172,
   "metadata": {},
   "outputs": [
    {
     "data": {
      "text/html": [
       "<div>\n",
       "<style scoped>\n",
       "    .dataframe tbody tr th:only-of-type {\n",
       "        vertical-align: middle;\n",
       "    }\n",
       "\n",
       "    .dataframe tbody tr th {\n",
       "        vertical-align: top;\n",
       "    }\n",
       "\n",
       "    .dataframe thead th {\n",
       "        text-align: right;\n",
       "    }\n",
       "</style>\n",
       "<table border=\"1\" class=\"dataframe\">\n",
       "  <thead>\n",
       "    <tr style=\"text-align: right;\">\n",
       "      <th></th>\n",
       "      <th>title</th>\n",
       "      <th>sentiment</th>\n",
       "      <th>compound</th>\n",
       "    </tr>\n",
       "  </thead>\n",
       "  <tbody>\n",
       "    <tr>\n",
       "      <th>0</th>\n",
       "      <td>Rocky Mountain High</td>\n",
       "      <td>{'neg': 0.11, 'neu': 0.824, 'pos': 0.066, 'compound': -0.8498}</td>\n",
       "      <td>-0.8498</td>\n",
       "    </tr>\n",
       "    <tr>\n",
       "      <th>1</th>\n",
       "      <td>New Kid in Town</td>\n",
       "      <td>{'neg': 0.029, 'neu': 0.756, 'pos': 0.215, 'compound': 0.9838}</td>\n",
       "      <td>0.9838</td>\n",
       "    </tr>\n",
       "    <tr>\n",
       "      <th>2</th>\n",
       "      <td>Pretty Maids All in a Row</td>\n",
       "      <td>{'neg': 0.062, 'neu': 0.586, 'pos': 0.353, 'compound': 0.9607}</td>\n",
       "      <td>0.9607</td>\n",
       "    </tr>\n",
       "    <tr>\n",
       "      <th>3</th>\n",
       "      <td>Try and Love Again</td>\n",
       "      <td>{'neg': 0.068, 'neu': 0.663, 'pos': 0.268, 'compound': 0.9905}</td>\n",
       "      <td>0.9905</td>\n",
       "    </tr>\n",
       "    <tr>\n",
       "      <th>4</th>\n",
       "      <td>Margaritaville</td>\n",
       "      <td>{'neg': 0.296, 'neu': 0.609, 'pos': 0.096, 'compound': -0.9758}</td>\n",
       "      <td>-0.9758</td>\n",
       "    </tr>\n",
       "  </tbody>\n",
       "</table>\n",
       "</div>"
      ],
      "text/plain": [
       "                       title  \\\n",
       "0        Rocky Mountain High   \n",
       "1            New Kid in Town   \n",
       "2  Pretty Maids All in a Row   \n",
       "3         Try and Love Again   \n",
       "4             Margaritaville   \n",
       "\n",
       "                                                         sentiment  compound  \n",
       "0   {'neg': 0.11, 'neu': 0.824, 'pos': 0.066, 'compound': -0.8498}   -0.8498  \n",
       "1   {'neg': 0.029, 'neu': 0.756, 'pos': 0.215, 'compound': 0.9838}    0.9838  \n",
       "2   {'neg': 0.062, 'neu': 0.586, 'pos': 0.353, 'compound': 0.9607}    0.9607  \n",
       "3   {'neg': 0.068, 'neu': 0.663, 'pos': 0.268, 'compound': 0.9905}    0.9905  \n",
       "4  {'neg': 0.296, 'neu': 0.609, 'pos': 0.096, 'compound': -0.9758}   -0.9758  "
      ]
     },
     "execution_count": 172,
     "metadata": {},
     "output_type": "execute_result"
    }
   ],
   "source": [
    "#get the head of id, title, sentiment and compound columns\n",
    "df[['title', 'sentiment', 'compound']].head()"
   ]
  },
  {
   "cell_type": "code",
   "execution_count": 173,
   "metadata": {},
   "outputs": [],
   "source": [
    "def choose_sentiment(compound):\n",
    "    if compound > 0.3:\n",
    "        return \"Positive\"\n",
    "    elif compound < -0.3:\n",
    "        return \"Negative\"\n",
    "    else:\n",
    "        return \"Neutral\""
   ]
  },
  {
   "cell_type": "code",
   "execution_count": 174,
   "metadata": {},
   "outputs": [],
   "source": [
    "df['sentiment_category'] = df['compound'].apply(lambda x: choose_sentiment(x) )"
   ]
  },
  {
   "cell_type": "markdown",
   "metadata": {},
   "source": [
    "Na wykresie poniżej przedstawiono rozkład sentymentu dla próbki testowej."
   ]
  },
  {
   "cell_type": "code",
   "execution_count": 175,
   "metadata": {},
   "outputs": [
    {
     "name": "stdout",
     "output_type": "stream",
     "text": [
      "sentiment_category\n",
      "Negative    1056\n",
      "Neutral      197\n",
      "Positive    2347\n",
      "dtype: int64\n"
     ]
    }
   ],
   "source": [
    "counts = df.groupby('sentiment_category').size()\n",
    "print(counts)"
   ]
  },
  {
   "cell_type": "markdown",
   "metadata": {},
   "source": [
    "Kolejnym krokiem była analiza tekstów pod kątem wsytępujacych w nim emocji. W tym celu wykorzystano bibliotekę text2emotion. Dla każdej piosenki zostały obliczone emocje, a następnie zostały one przypisane do jednej z kategorii: radość, smutek, złość, strach."
   ]
  },
  {
   "cell_type": "code",
   "execution_count": 176,
   "metadata": {},
   "outputs": [
    {
     "data": {
      "text/html": [
       "<div>\n",
       "<style scoped>\n",
       "    .dataframe tbody tr th:only-of-type {\n",
       "        vertical-align: middle;\n",
       "    }\n",
       "\n",
       "    .dataframe tbody tr th {\n",
       "        vertical-align: top;\n",
       "    }\n",
       "\n",
       "    .dataframe thead th {\n",
       "        text-align: right;\n",
       "    }\n",
       "</style>\n",
       "<table border=\"1\" class=\"dataframe\">\n",
       "  <thead>\n",
       "    <tr style=\"text-align: right;\">\n",
       "      <th></th>\n",
       "      <th>title</th>\n",
       "      <th>emotion</th>\n",
       "    </tr>\n",
       "  </thead>\n",
       "  <tbody>\n",
       "    <tr>\n",
       "      <th>0</th>\n",
       "      <td>Rocky Mountain High</td>\n",
       "      <td>{'Happy': 0.04, 'Angry': 0.01, 'Surprise': 0.05, 'Sad': 0.45, 'Fear': 0.45}</td>\n",
       "    </tr>\n",
       "    <tr>\n",
       "      <th>1</th>\n",
       "      <td>New Kid in Town</td>\n",
       "      <td>{'Happy': 0.39, 'Angry': 0.03, 'Surprise': 0.1, 'Sad': 0.42, 'Fear': 0.05}</td>\n",
       "    </tr>\n",
       "    <tr>\n",
       "      <th>2</th>\n",
       "      <td>Pretty Maids All in a Row</td>\n",
       "      <td>{'Happy': 0.43, 'Angry': 0.0, 'Surprise': 0.0, 'Sad': 0.14, 'Fear': 0.43}</td>\n",
       "    </tr>\n",
       "    <tr>\n",
       "      <th>3</th>\n",
       "      <td>Try and Love Again</td>\n",
       "      <td>{'Happy': 0.52, 'Angry': 0.1, 'Surprise': 0.0, 'Sad': 0.29, 'Fear': 0.1}</td>\n",
       "    </tr>\n",
       "    <tr>\n",
       "      <th>4</th>\n",
       "      <td>Margaritaville</td>\n",
       "      <td>{'Happy': 0.04, 'Angry': 0.23, 'Surprise': 0.31, 'Sad': 0.31, 'Fear': 0.12}</td>\n",
       "    </tr>\n",
       "  </tbody>\n",
       "</table>\n",
       "</div>"
      ],
      "text/plain": [
       "                       title  \\\n",
       "0        Rocky Mountain High   \n",
       "1            New Kid in Town   \n",
       "2  Pretty Maids All in a Row   \n",
       "3         Try and Love Again   \n",
       "4             Margaritaville   \n",
       "\n",
       "                                                                       emotion  \n",
       "0  {'Happy': 0.04, 'Angry': 0.01, 'Surprise': 0.05, 'Sad': 0.45, 'Fear': 0.45}  \n",
       "1   {'Happy': 0.39, 'Angry': 0.03, 'Surprise': 0.1, 'Sad': 0.42, 'Fear': 0.05}  \n",
       "2    {'Happy': 0.43, 'Angry': 0.0, 'Surprise': 0.0, 'Sad': 0.14, 'Fear': 0.43}  \n",
       "3     {'Happy': 0.52, 'Angry': 0.1, 'Surprise': 0.0, 'Sad': 0.29, 'Fear': 0.1}  \n",
       "4  {'Happy': 0.04, 'Angry': 0.23, 'Surprise': 0.31, 'Sad': 0.31, 'Fear': 0.12}  "
      ]
     },
     "execution_count": 176,
     "metadata": {},
     "output_type": "execute_result"
    }
   ],
   "source": [
    "df['emotion'] = df['lyrcis_preprocessed'].apply(lambda x: get_emotion(x))\n",
    "\n",
    "df[['title', 'emotion']].head()"
   ]
  },
  {
   "cell_type": "code",
   "execution_count": 177,
   "metadata": {},
   "outputs": [
    {
     "data": {
      "text/html": [
       "<div>\n",
       "<style scoped>\n",
       "    .dataframe tbody tr th:only-of-type {\n",
       "        vertical-align: middle;\n",
       "    }\n",
       "\n",
       "    .dataframe tbody tr th {\n",
       "        vertical-align: top;\n",
       "    }\n",
       "\n",
       "    .dataframe thead th {\n",
       "        text-align: right;\n",
       "    }\n",
       "</style>\n",
       "<table border=\"1\" class=\"dataframe\">\n",
       "  <thead>\n",
       "    <tr style=\"text-align: right;\">\n",
       "      <th></th>\n",
       "      <th>title</th>\n",
       "      <th>tag</th>\n",
       "      <th>artist</th>\n",
       "      <th>year</th>\n",
       "      <th>views</th>\n",
       "      <th>features</th>\n",
       "      <th>lyrics</th>\n",
       "      <th>id</th>\n",
       "      <th>decade</th>\n",
       "      <th>lyrcis_preprocessed</th>\n",
       "      <th>sentiment</th>\n",
       "      <th>compound</th>\n",
       "      <th>sentiment_category</th>\n",
       "      <th>emotion</th>\n",
       "    </tr>\n",
       "  </thead>\n",
       "  <tbody>\n",
       "    <tr>\n",
       "      <th>0</th>\n",
       "      <td>Rocky Mountain High</td>\n",
       "      <td>country</td>\n",
       "      <td>John Denver</td>\n",
       "      <td>1972</td>\n",
       "      <td>34529</td>\n",
       "      <td>{}</td>\n",
       "      <td>[Verse 1]\\nHe was born in the summer of his 27th year\\nComin' home to a place he’d never been be...</td>\n",
       "      <td>2873</td>\n",
       "      <td>1970s</td>\n",
       "      <td>born summer year comin' home place hed never left yesterday behind might say born might say foun...</td>\n",
       "      <td>{'neg': 0.11, 'neu': 0.824, 'pos': 0.066, 'compound': -0.8498}</td>\n",
       "      <td>-0.8498</td>\n",
       "      <td>Negative</td>\n",
       "      <td>{'Happy': 0.04, 'Angry': 0.01, 'Surprise': 0.05, 'Sad': 0.45, 'Fear': 0.45}</td>\n",
       "    </tr>\n",
       "    <tr>\n",
       "      <th>1</th>\n",
       "      <td>New Kid in Town</td>\n",
       "      <td>country</td>\n",
       "      <td>Eagles</td>\n",
       "      <td>1976</td>\n",
       "      <td>76529</td>\n",
       "      <td>{}</td>\n",
       "      <td>[Verse 1]\\nThere's talk on the street, it sounds so familiar\\nGreat expectations, everybody's wa...</td>\n",
       "      <td>54282</td>\n",
       "      <td>1970s</td>\n",
       "      <td>talk street sound familiar great expectation everybody's watching people meet seem know even old...</td>\n",
       "      <td>{'neg': 0.029, 'neu': 0.756, 'pos': 0.215, 'compound': 0.9838}</td>\n",
       "      <td>0.9838</td>\n",
       "      <td>Positive</td>\n",
       "      <td>{'Happy': 0.39, 'Angry': 0.03, 'Surprise': 0.1, 'Sad': 0.42, 'Fear': 0.05}</td>\n",
       "    </tr>\n",
       "  </tbody>\n",
       "</table>\n",
       "</div>"
      ],
      "text/plain": [
       "                 title      tag       artist  year  views features  \\\n",
       "0  Rocky Mountain High  country  John Denver  1972  34529       {}   \n",
       "1      New Kid in Town  country       Eagles  1976  76529       {}   \n",
       "\n",
       "                                                                                                lyrics  \\\n",
       "0  [Verse 1]\\nHe was born in the summer of his 27th year\\nComin' home to a place he’d never been be...   \n",
       "1  [Verse 1]\\nThere's talk on the street, it sounds so familiar\\nGreat expectations, everybody's wa...   \n",
       "\n",
       "      id decade  \\\n",
       "0   2873  1970s   \n",
       "1  54282  1970s   \n",
       "\n",
       "                                                                                   lyrcis_preprocessed  \\\n",
       "0  born summer year comin' home place hed never left yesterday behind might say born might say foun...   \n",
       "1  talk street sound familiar great expectation everybody's watching people meet seem know even old...   \n",
       "\n",
       "                                                        sentiment  compound  \\\n",
       "0  {'neg': 0.11, 'neu': 0.824, 'pos': 0.066, 'compound': -0.8498}   -0.8498   \n",
       "1  {'neg': 0.029, 'neu': 0.756, 'pos': 0.215, 'compound': 0.9838}    0.9838   \n",
       "\n",
       "  sentiment_category  \\\n",
       "0           Negative   \n",
       "1           Positive   \n",
       "\n",
       "                                                                       emotion  \n",
       "0  {'Happy': 0.04, 'Angry': 0.01, 'Surprise': 0.05, 'Sad': 0.45, 'Fear': 0.45}  \n",
       "1   {'Happy': 0.39, 'Angry': 0.03, 'Surprise': 0.1, 'Sad': 0.42, 'Fear': 0.05}  "
      ]
     },
     "execution_count": 177,
     "metadata": {},
     "output_type": "execute_result"
    }
   ],
   "source": [
    "pd.set_option('display.max_colwidth', 100)\n",
    "df.head(2)"
   ]
  },
  {
   "cell_type": "code",
   "execution_count": 178,
   "metadata": {},
   "outputs": [
    {
     "name": "stdout",
     "output_type": "stream",
     "text": [
      "<class 'pandas.core.frame.DataFrame'>\n",
      "RangeIndex: 3600 entries, 0 to 3599\n",
      "Data columns (total 14 columns):\n",
      " #   Column               Non-Null Count  Dtype  \n",
      "---  ------               --------------  -----  \n",
      " 0   title                3600 non-null   object \n",
      " 1   tag                  3600 non-null   object \n",
      " 2   artist               3600 non-null   object \n",
      " 3   year                 3600 non-null   int64  \n",
      " 4   views                3600 non-null   int64  \n",
      " 5   features             3600 non-null   object \n",
      " 6   lyrics               3600 non-null   object \n",
      " 7   id                   3600 non-null   int64  \n",
      " 8   decade               3600 non-null   object \n",
      " 9   lyrcis_preprocessed  3600 non-null   object \n",
      " 10  sentiment            3600 non-null   object \n",
      " 11  compound             3600 non-null   float64\n",
      " 12  sentiment_category   3600 non-null   object \n",
      " 13  emotion              3600 non-null   object \n",
      "dtypes: float64(1), int64(3), object(10)\n",
      "memory usage: 393.9+ KB\n"
     ]
    }
   ],
   "source": [
    "df.info()"
   ]
  },
  {
   "cell_type": "code",
   "execution_count": 179,
   "metadata": {},
   "outputs": [],
   "source": [
    "df.to_csv('data_sentiment_emotion_3600.csv', index=False)"
   ]
  }
 ],
 "metadata": {
  "kernelspec": {
   "display_name": "Python 3",
   "language": "python",
   "name": "python3"
  },
  "language_info": {
   "codemirror_mode": {
    "name": "ipython",
    "version": 3
   },
   "file_extension": ".py",
   "mimetype": "text/x-python",
   "name": "python",
   "nbconvert_exporter": "python",
   "pygments_lexer": "ipython3",
   "version": "3.11.6"
  }
 },
 "nbformat": 4,
 "nbformat_minor": 2
}
